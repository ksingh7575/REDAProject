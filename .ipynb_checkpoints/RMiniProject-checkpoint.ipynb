{
 "cells": [
  {
   "cell_type": "markdown",
   "metadata": {
    "deletable": true,
    "editable": true
   },
   "source": [
    "# Exploratory data analysis of United Nations voting dataset using the dplyr and ggplot2 package"
   ]
  },
  {
   "cell_type": "markdown",
   "metadata": {
    "deletable": true,
    "editable": true
   },
   "source": [
    "##### Loading the required Packages ( Kindly ignore the warning messages)"
   ]
  },
  {
   "cell_type": "code",
   "execution_count": 75,
   "metadata": {
    "collapsed": false,
    "deletable": true,
    "editable": true
   },
   "outputs": [],
   "source": [
    "library(dplyr)\n",
    "library(countrycode)\n",
    "library(ggplot2)\n",
    "library(broom)\n",
    "library(tidyr)\n",
    "library(purrr)"
   ]
  },
  {
   "cell_type": "markdown",
   "metadata": {
    "deletable": true,
    "editable": true
   },
   "source": [
    "##### Reading the DataSet"
   ]
  },
  {
   "cell_type": "code",
   "execution_count": 76,
   "metadata": {
    "collapsed": false,
    "deletable": true,
    "editable": true
   },
   "outputs": [
    {
     "data": {
      "text/html": [
       "<ol class=list-inline>\n",
       "\t<li>'tbl_df'</li>\n",
       "\t<li>'tbl'</li>\n",
       "\t<li>'data.frame'</li>\n",
       "</ol>\n"
      ],
      "text/latex": [
       "\\begin{enumerate*}\n",
       "\\item 'tbl\\_df'\n",
       "\\item 'tbl'\n",
       "\\item 'data.frame'\n",
       "\\end{enumerate*}\n"
      ],
      "text/markdown": [
       "1. 'tbl_df'\n",
       "2. 'tbl'\n",
       "3. 'data.frame'\n",
       "\n",
       "\n"
      ],
      "text/plain": [
       "[1] \"tbl_df\"     \"tbl\"        \"data.frame\""
      ]
     },
     "metadata": {},
     "output_type": "display_data"
    },
    {
     "data": {
      "text/html": [
       "<table>\n",
       "<thead><tr><th scope=col>rcid</th><th scope=col>session</th><th scope=col>vote</th><th scope=col>ccode</th></tr></thead>\n",
       "<tbody>\n",
       "\t<tr><td>46</td><td>2 </td><td>1 </td><td> 2</td></tr>\n",
       "\t<tr><td>46</td><td>2 </td><td>1 </td><td>20</td></tr>\n",
       "\t<tr><td>46</td><td>2 </td><td>9 </td><td>31</td></tr>\n",
       "\t<tr><td>46</td><td>2 </td><td>1 </td><td>40</td></tr>\n",
       "\t<tr><td>46</td><td>2 </td><td>1 </td><td>41</td></tr>\n",
       "\t<tr><td>46</td><td>2 </td><td>1 </td><td>42</td></tr>\n",
       "</tbody>\n",
       "</table>\n"
      ],
      "text/latex": [
       "\\begin{tabular}{r|llll}\n",
       " rcid & session & vote & ccode\\\\\n",
       "\\hline\n",
       "\t 46 & 2  & 1  &  2\\\\\n",
       "\t 46 & 2  & 1  & 20\\\\\n",
       "\t 46 & 2  & 9  & 31\\\\\n",
       "\t 46 & 2  & 1  & 40\\\\\n",
       "\t 46 & 2  & 1  & 41\\\\\n",
       "\t 46 & 2  & 1  & 42\\\\\n",
       "\\end{tabular}\n"
      ],
      "text/markdown": [
       "\n",
       "rcid | session | vote | ccode | \n",
       "|---|---|---|---|---|---|\n",
       "| 46 | 2  | 1  |  2 | \n",
       "| 46 | 2  | 1  | 20 | \n",
       "| 46 | 2  | 9  | 31 | \n",
       "| 46 | 2  | 1  | 40 | \n",
       "| 46 | 2  | 1  | 41 | \n",
       "| 46 | 2  | 1  | 42 | \n",
       "\n",
       "\n"
      ],
      "text/plain": [
       "  rcid session vote ccode\n",
       "1 46   2       1     2   \n",
       "2 46   2       1    20   \n",
       "3 46   2       9    31   \n",
       "4 46   2       1    40   \n",
       "5 46   2       1    41   \n",
       "6 46   2       1    42   "
      ]
     },
     "metadata": {},
     "output_type": "display_data"
    }
   ],
   "source": [
    "dataeda <- readRDS(\"votes.rds\")\n",
    "class(dataeda)\n",
    "head(dataeda)"
   ]
  },
  {
   "cell_type": "markdown",
   "metadata": {
    "deletable": true,
    "editable": true
   },
   "source": [
    "##### \"rcid\" is Roll Call Id | \"session\" is Year | \"ccode\" is Country-Code\n"
   ]
  },
  {
   "cell_type": "markdown",
   "metadata": {
    "deletable": true,
    "editable": true
   },
   "source": [
    "##### \"vote\" variable has values : 1 = Yes ; 2 = Abstain; 3 = No; 8 = Not present; 9 = Not a member"
   ]
  },
  {
   "cell_type": "code",
   "execution_count": 77,
   "metadata": {
    "collapsed": false,
    "deletable": true,
    "editable": true
   },
   "outputs": [
    {
     "name": "stdout",
     "output_type": "stream",
     "text": [
      "Observations: 508,929\n",
      "Variables: 4\n",
      "$ rcid    <dbl> 46, 46, 46, 46, 46, 46, 46, 46, 46, 46, 46, 46, 46, 46, 46,...\n",
      "$ session <dbl> 2, 2, 2, 2, 2, 2, 2, 2, 2, 2, 2, 2, 2, 2, 2, 2, 2, 2, 2, 2,...\n",
      "$ vote    <dbl> 1, 1, 9, 1, 1, 1, 9, 9, 9, 9, 9, 9, 9, 9, 9, 1, 9, 1, 1, 1,...\n",
      "$ ccode   <int> 2, 20, 31, 40, 41, 42, 51, 52, 53, 54, 55, 56, 57, 58, 60, ...\n"
     ]
    }
   ],
   "source": [
    "glimpse(dataeda)"
   ]
  },
  {
   "cell_type": "markdown",
   "metadata": {
    "deletable": true,
    "editable": true
   },
   "source": [
    "##### Cleaning the Dataset"
   ]
  },
  {
   "cell_type": "markdown",
   "metadata": {
    "deletable": true,
    "editable": true
   },
   "source": [
    "##### Removing the values of \"vote\" variable in which we are not intereseted"
   ]
  },
  {
   "cell_type": "code",
   "execution_count": 78,
   "metadata": {
    "collapsed": false,
    "deletable": true,
    "editable": true
   },
   "outputs": [],
   "source": [
    "dataeda <- dataeda %>%\n",
    "        filter(vote <= 3)"
   ]
  },
  {
   "cell_type": "code",
   "execution_count": 79,
   "metadata": {
    "collapsed": false,
    "deletable": true,
    "editable": true
   },
   "outputs": [
    {
     "name": "stdout",
     "output_type": "stream",
     "text": [
      "Observations: 353,547\n",
      "Variables: 4\n",
      "$ rcid    <dbl> 46, 46, 46, 46, 46, 46, 46, 46, 46, 46, 46, 46, 46, 46, 46,...\n",
      "$ session <dbl> 2, 2, 2, 2, 2, 2, 2, 2, 2, 2, 2, 2, 2, 2, 2, 2, 2, 2, 2, 2,...\n",
      "$ vote    <dbl> 1, 1, 1, 1, 1, 1, 1, 1, 1, 1, 1, 1, 1, 1, 1, 1, 1, 1, 1, 1,...\n",
      "$ ccode   <int> 2, 20, 40, 41, 42, 70, 90, 91, 92, 93, 94, 95, 100, 101, 13...\n"
     ]
    }
   ],
   "source": [
    "glimpse(dataeda)"
   ]
  },
  {
   "cell_type": "markdown",
   "metadata": {
    "deletable": true,
    "editable": true
   },
   "source": [
    "##### The UN started voting in 1946, and holds one session per year, we can get the year of a UN resolution by adding 1945 to the session number."
   ]
  },
  {
   "cell_type": "code",
   "execution_count": 80,
   "metadata": {
    "collapsed": false,
    "deletable": true,
    "editable": true
   },
   "outputs": [
    {
     "name": "stderr",
     "output_type": "stream",
     "text": [
      "Warning message in countrycode(ccode, \"cown\", \"country.name\"):\n",
      "\"Some values were not matched unambiguously: 260, 816\n",
      "\""
     ]
    }
   ],
   "source": [
    "dataeda <- dataeda %>%\n",
    "        mutate(year= session + 1945,\n",
    "               country = countrycode(ccode, \"cown\", \"country.name\"))"
   ]
  },
  {
   "cell_type": "code",
   "execution_count": 81,
   "metadata": {
    "collapsed": false,
    "deletable": true,
    "editable": true
   },
   "outputs": [
    {
     "name": "stdout",
     "output_type": "stream",
     "text": [
      "Observations: 353,547\n",
      "Variables: 6\n",
      "$ rcid    <dbl> 46, 46, 46, 46, 46, 46, 46, 46, 46, 46, 46, 46, 46, 46, 46,...\n",
      "$ session <dbl> 2, 2, 2, 2, 2, 2, 2, 2, 2, 2, 2, 2, 2, 2, 2, 2, 2, 2, 2, 2,...\n",
      "$ vote    <dbl> 1, 1, 1, 1, 1, 1, 1, 1, 1, 1, 1, 1, 1, 1, 1, 1, 1, 1, 1, 1,...\n",
      "$ ccode   <int> 2, 20, 40, 41, 42, 70, 90, 91, 92, 93, 94, 95, 100, 101, 13...\n",
      "$ year    <dbl> 1947, 1947, 1947, 1947, 1947, 1947, 1947, 1947, 1947, 1947,...\n",
      "$ country <chr> \"United States\", \"Canada\", \"Cuba\", \"Haiti\", \"Dominican Repu...\n"
     ]
    }
   ],
   "source": [
    "glimpse(dataeda)"
   ]
  },
  {
   "cell_type": "code",
   "execution_count": 82,
   "metadata": {
    "collapsed": false,
    "deletable": true,
    "editable": true
   },
   "outputs": [
    {
     "data": {
      "text/html": [
       "<table>\n",
       "<thead><tr><th scope=col>rcid</th><th scope=col>session</th><th scope=col>vote</th><th scope=col>ccode</th><th scope=col>year</th><th scope=col>country</th></tr></thead>\n",
       "<tbody>\n",
       "\t<tr><td>46                </td><td>2                 </td><td>1                 </td><td> 2                </td><td>1947              </td><td>United States     </td></tr>\n",
       "\t<tr><td>46                </td><td>2                 </td><td>1                 </td><td>20                </td><td>1947              </td><td>Canada            </td></tr>\n",
       "\t<tr><td>46                </td><td>2                 </td><td>1                 </td><td>40                </td><td>1947              </td><td>Cuba              </td></tr>\n",
       "\t<tr><td>46                </td><td>2                 </td><td>1                 </td><td>41                </td><td>1947              </td><td>Haiti             </td></tr>\n",
       "\t<tr><td>46                </td><td>2                 </td><td>1                 </td><td>42                </td><td>1947              </td><td>Dominican Republic</td></tr>\n",
       "\t<tr><td>46                </td><td>2                 </td><td>1                 </td><td>70                </td><td>1947              </td><td>Mexico            </td></tr>\n",
       "\t<tr><td>46                </td><td>2                 </td><td>1                 </td><td>90                </td><td>1947              </td><td>Guatemala         </td></tr>\n",
       "\t<tr><td>46                </td><td>2                 </td><td>1                 </td><td>91                </td><td>1947              </td><td>Honduras          </td></tr>\n",
       "\t<tr><td>46                </td><td>2                 </td><td>1                 </td><td>92                </td><td>1947              </td><td>El Salvador       </td></tr>\n",
       "\t<tr><td>46                </td><td>2                 </td><td>1                 </td><td>93                </td><td>1947              </td><td>Nicaragua         </td></tr>\n",
       "</tbody>\n",
       "</table>\n"
      ],
      "text/latex": [
       "\\begin{tabular}{r|llllll}\n",
       " rcid & session & vote & ccode & year & country\\\\\n",
       "\\hline\n",
       "\t 46                 & 2                  & 1                  &  2                 & 1947               & United States     \\\\\n",
       "\t 46                 & 2                  & 1                  & 20                 & 1947               & Canada            \\\\\n",
       "\t 46                 & 2                  & 1                  & 40                 & 1947               & Cuba              \\\\\n",
       "\t 46                 & 2                  & 1                  & 41                 & 1947               & Haiti             \\\\\n",
       "\t 46                 & 2                  & 1                  & 42                 & 1947               & Dominican Republic\\\\\n",
       "\t 46                 & 2                  & 1                  & 70                 & 1947               & Mexico            \\\\\n",
       "\t 46                 & 2                  & 1                  & 90                 & 1947               & Guatemala         \\\\\n",
       "\t 46                 & 2                  & 1                  & 91                 & 1947               & Honduras          \\\\\n",
       "\t 46                 & 2                  & 1                  & 92                 & 1947               & El Salvador       \\\\\n",
       "\t 46                 & 2                  & 1                  & 93                 & 1947               & Nicaragua         \\\\\n",
       "\\end{tabular}\n"
      ],
      "text/markdown": [
       "\n",
       "rcid | session | vote | ccode | year | country | \n",
       "|---|---|---|---|---|---|---|---|---|---|\n",
       "| 46                 | 2                  | 1                  |  2                 | 1947               | United States      | \n",
       "| 46                 | 2                  | 1                  | 20                 | 1947               | Canada             | \n",
       "| 46                 | 2                  | 1                  | 40                 | 1947               | Cuba               | \n",
       "| 46                 | 2                  | 1                  | 41                 | 1947               | Haiti              | \n",
       "| 46                 | 2                  | 1                  | 42                 | 1947               | Dominican Republic | \n",
       "| 46                 | 2                  | 1                  | 70                 | 1947               | Mexico             | \n",
       "| 46                 | 2                  | 1                  | 90                 | 1947               | Guatemala          | \n",
       "| 46                 | 2                  | 1                  | 91                 | 1947               | Honduras           | \n",
       "| 46                 | 2                  | 1                  | 92                 | 1947               | El Salvador        | \n",
       "| 46                 | 2                  | 1                  | 93                 | 1947               | Nicaragua          | \n",
       "\n",
       "\n"
      ],
      "text/plain": [
       "   rcid session vote ccode year country           \n",
       "1  46   2       1     2    1947 United States     \n",
       "2  46   2       1    20    1947 Canada            \n",
       "3  46   2       1    40    1947 Cuba              \n",
       "4  46   2       1    41    1947 Haiti             \n",
       "5  46   2       1    42    1947 Dominican Republic\n",
       "6  46   2       1    70    1947 Mexico            \n",
       "7  46   2       1    90    1947 Guatemala         \n",
       "8  46   2       1    91    1947 Honduras          \n",
       "9  46   2       1    92    1947 El Salvador       \n",
       "10 46   2       1    93    1947 Nicaragua         "
      ]
     },
     "metadata": {},
     "output_type": "display_data"
    }
   ],
   "source": [
    "head(dataeda,10)"
   ]
  },
  {
   "cell_type": "markdown",
   "metadata": {
    "deletable": true,
    "editable": true
   },
   "source": [
    "##### Finding the  total and fraction of \"yes\" votes by year"
   ]
  },
  {
   "cell_type": "code",
   "execution_count": 83,
   "metadata": {
    "collapsed": false,
    "deletable": true,
    "editable": true
   },
   "outputs": [
    {
     "data": {
      "text/html": [
       "<table>\n",
       "<thead><tr><th scope=col>year</th><th scope=col>total</th><th scope=col>percent_yes</th></tr></thead>\n",
       "<tbody>\n",
       "\t<tr><td>1947     </td><td>2039     </td><td>0.5693968</td></tr>\n",
       "\t<tr><td>1949     </td><td>3469     </td><td>0.4375901</td></tr>\n",
       "\t<tr><td>1951     </td><td>1434     </td><td>0.5850767</td></tr>\n",
       "\t<tr><td>1953     </td><td>1537     </td><td>0.6317502</td></tr>\n",
       "\t<tr><td>1955     </td><td>2169     </td><td>0.6947902</td></tr>\n",
       "\t<tr><td>1957     </td><td>2708     </td><td>0.6085672</td></tr>\n",
       "\t<tr><td>1959     </td><td>4326     </td><td>0.5880721</td></tr>\n",
       "\t<tr><td>1961     </td><td>7482     </td><td>0.5729751</td></tr>\n",
       "\t<tr><td>1963     </td><td>3308     </td><td>0.7294438</td></tr>\n",
       "\t<tr><td>1965     </td><td>4382     </td><td>0.7078959</td></tr>\n",
       "</tbody>\n",
       "</table>\n"
      ],
      "text/latex": [
       "\\begin{tabular}{r|lll}\n",
       " year & total & percent\\_yes\\\\\n",
       "\\hline\n",
       "\t 1947      & 2039      & 0.5693968\\\\\n",
       "\t 1949      & 3469      & 0.4375901\\\\\n",
       "\t 1951      & 1434      & 0.5850767\\\\\n",
       "\t 1953      & 1537      & 0.6317502\\\\\n",
       "\t 1955      & 2169      & 0.6947902\\\\\n",
       "\t 1957      & 2708      & 0.6085672\\\\\n",
       "\t 1959      & 4326      & 0.5880721\\\\\n",
       "\t 1961      & 7482      & 0.5729751\\\\\n",
       "\t 1963      & 3308      & 0.7294438\\\\\n",
       "\t 1965      & 4382      & 0.7078959\\\\\n",
       "\\end{tabular}\n"
      ],
      "text/markdown": [
       "\n",
       "year | total | percent_yes | \n",
       "|---|---|---|---|---|---|---|---|---|---|\n",
       "| 1947      | 2039      | 0.5693968 | \n",
       "| 1949      | 3469      | 0.4375901 | \n",
       "| 1951      | 1434      | 0.5850767 | \n",
       "| 1953      | 1537      | 0.6317502 | \n",
       "| 1955      | 2169      | 0.6947902 | \n",
       "| 1957      | 2708      | 0.6085672 | \n",
       "| 1959      | 4326      | 0.5880721 | \n",
       "| 1961      | 7482      | 0.5729751 | \n",
       "| 1963      | 3308      | 0.7294438 | \n",
       "| 1965      | 4382      | 0.7078959 | \n",
       "\n",
       "\n"
      ],
      "text/plain": [
       "   year total percent_yes\n",
       "1  1947 2039  0.5693968  \n",
       "2  1949 3469  0.4375901  \n",
       "3  1951 1434  0.5850767  \n",
       "4  1953 1537  0.6317502  \n",
       "5  1955 2169  0.6947902  \n",
       "6  1957 2708  0.6085672  \n",
       "7  1959 4326  0.5880721  \n",
       "8  1961 7482  0.5729751  \n",
       "9  1963 3308  0.7294438  \n",
       "10 1965 4382  0.7078959  "
      ]
     },
     "metadata": {},
     "output_type": "display_data"
    }
   ],
   "source": [
    "votes_processed <- dataeda\n",
    "by_year <- votes_processed %>%\n",
    "      group_by(year) %>%\n",
    "      summarize(total = n(),\n",
    "        percent_yes = mean(vote == 1))\n",
    "\n",
    "head(by_year,10)"
   ]
  },
  {
   "cell_type": "markdown",
   "metadata": {
    "deletable": true,
    "editable": true
   },
   "source": [
    "##### Finding the  total and fraction of \"yes\" votes by Country"
   ]
  },
  {
   "cell_type": "code",
   "execution_count": 84,
   "metadata": {
    "collapsed": false,
    "deletable": true,
    "editable": true
   },
   "outputs": [],
   "source": [
    "by_country <- votes_processed %>%\n",
    "          group_by(country) %>%\n",
    "          summarize(total = n(),\n",
    "          percent_yes = mean(vote == 1))"
   ]
  },
  {
   "cell_type": "code",
   "execution_count": 85,
   "metadata": {
    "collapsed": false,
    "deletable": true,
    "editable": true
   },
   "outputs": [
    {
     "data": {
      "text/html": [
       "<table>\n",
       "<thead><tr><th scope=col>country</th><th scope=col>total</th><th scope=col>percent_yes</th></tr></thead>\n",
       "<tbody>\n",
       "\t<tr><td>Afghanistan      </td><td>2373             </td><td>0.8592499        </td></tr>\n",
       "\t<tr><td>Albania          </td><td>1695             </td><td>0.7174041        </td></tr>\n",
       "\t<tr><td>Algeria          </td><td>2213             </td><td>0.8992318        </td></tr>\n",
       "\t<tr><td>Andorra          </td><td> 719             </td><td>0.6383866        </td></tr>\n",
       "\t<tr><td>Angola           </td><td>1431             </td><td>0.9238295        </td></tr>\n",
       "\t<tr><td>Antigua &amp; Barbuda</td><td>1302                 </td><td>0.9124424            </td></tr>\n",
       "\t<tr><td>Argentina        </td><td>2553             </td><td>0.7677242        </td></tr>\n",
       "\t<tr><td>Armenia          </td><td> 758             </td><td>0.7467018        </td></tr>\n",
       "\t<tr><td>Australia        </td><td>2575             </td><td>0.5565049        </td></tr>\n",
       "\t<tr><td>Austria          </td><td>2389             </td><td>0.6224362        </td></tr>\n",
       "</tbody>\n",
       "</table>\n"
      ],
      "text/latex": [
       "\\begin{tabular}{r|lll}\n",
       " country & total & percent\\_yes\\\\\n",
       "\\hline\n",
       "\t Afghanistan       & 2373              & 0.8592499        \\\\\n",
       "\t Albania           & 1695              & 0.7174041        \\\\\n",
       "\t Algeria           & 2213              & 0.8992318        \\\\\n",
       "\t Andorra           &  719              & 0.6383866        \\\\\n",
       "\t Angola            & 1431              & 0.9238295        \\\\\n",
       "\t Antigua \\& Barbuda & 1302                & 0.9124424          \\\\\n",
       "\t Argentina         & 2553              & 0.7677242        \\\\\n",
       "\t Armenia           &  758              & 0.7467018        \\\\\n",
       "\t Australia         & 2575              & 0.5565049        \\\\\n",
       "\t Austria           & 2389              & 0.6224362        \\\\\n",
       "\\end{tabular}\n"
      ],
      "text/markdown": [
       "\n",
       "country | total | percent_yes | \n",
       "|---|---|---|---|---|---|---|---|---|---|\n",
       "| Afghanistan       | 2373              | 0.8592499         | \n",
       "| Albania           | 1695              | 0.7174041         | \n",
       "| Algeria           | 2213              | 0.8992318         | \n",
       "| Andorra           |  719              | 0.6383866         | \n",
       "| Angola            | 1431              | 0.9238295         | \n",
       "| Antigua & Barbuda | 1302              | 0.9124424         | \n",
       "| Argentina         | 2553              | 0.7677242         | \n",
       "| Armenia           |  758              | 0.7467018         | \n",
       "| Australia         | 2575              | 0.5565049         | \n",
       "| Austria           | 2389              | 0.6224362         | \n",
       "\n",
       "\n"
      ],
      "text/plain": [
       "   country           total percent_yes\n",
       "1  Afghanistan       2373  0.8592499  \n",
       "2  Albania           1695  0.7174041  \n",
       "3  Algeria           2213  0.8992318  \n",
       "4  Andorra            719  0.6383866  \n",
       "5  Angola            1431  0.9238295  \n",
       "6  Antigua & Barbuda 1302  0.9124424  \n",
       "7  Argentina         2553  0.7677242  \n",
       "8  Armenia            758  0.7467018  \n",
       "9  Australia         2575  0.5565049  \n",
       "10 Austria           2389  0.6224362  "
      ]
     },
     "metadata": {},
     "output_type": "display_data"
    }
   ],
   "source": [
    "head(by_country,10)"
   ]
  },
  {
   "cell_type": "markdown",
   "metadata": {
    "deletable": true,
    "editable": true
   },
   "source": [
    "##### Sorting the percentage of \"yes\" votes by Country"
   ]
  },
  {
   "cell_type": "code",
   "execution_count": 86,
   "metadata": {
    "collapsed": true,
    "deletable": true,
    "editable": true
   },
   "outputs": [],
   "source": [
    "by_country <- by_country %>%\n",
    "           arrange(desc(percent_yes))"
   ]
  },
  {
   "cell_type": "code",
   "execution_count": 87,
   "metadata": {
    "collapsed": false,
    "deletable": true,
    "editable": true
   },
   "outputs": [
    {
     "data": {
      "text/html": [
       "<table>\n",
       "<thead><tr><th scope=col>country</th><th scope=col>total</th><th scope=col>percent_yes</th></tr></thead>\n",
       "<tbody>\n",
       "\t<tr><td>São Tomé &amp; Príncipe </td><td>1091                    </td><td>0.9761687               </td></tr>\n",
       "\t<tr><td>Seychelles          </td><td> 881                </td><td>0.9750284           </td></tr>\n",
       "\t<tr><td>Djibouti            </td><td>1598                </td><td>0.9612015           </td></tr>\n",
       "\t<tr><td>Guinea-Bissau       </td><td>1538                </td><td>0.9603381           </td></tr>\n",
       "\t<tr><td>Timor-Leste         </td><td> 326                </td><td>0.9570552           </td></tr>\n",
       "\t<tr><td>Mauritius           </td><td>1831                </td><td>0.9497542           </td></tr>\n",
       "\t<tr><td>Zimbabwe            </td><td>1361                </td><td>0.9493020           </td></tr>\n",
       "\t<tr><td>Comoros             </td><td>1133                </td><td>0.9470432           </td></tr>\n",
       "\t<tr><td>United Arab Emirates</td><td>1934                </td><td>0.9467425           </td></tr>\n",
       "\t<tr><td>Mozambique          </td><td>1701                </td><td>0.9465021           </td></tr>\n",
       "</tbody>\n",
       "</table>\n"
      ],
      "text/latex": [
       "\\begin{tabular}{r|lll}\n",
       " country & total & percent\\_yes\\\\\n",
       "\\hline\n",
       "\t São Tomé \\& Príncipe  & 1091                   & 0.9761687             \\\\\n",
       "\t Seychelles           &  881                 & 0.9750284           \\\\\n",
       "\t Djibouti             & 1598                 & 0.9612015           \\\\\n",
       "\t Guinea-Bissau        & 1538                 & 0.9603381           \\\\\n",
       "\t Timor-Leste          &  326                 & 0.9570552           \\\\\n",
       "\t Mauritius            & 1831                 & 0.9497542           \\\\\n",
       "\t Zimbabwe             & 1361                 & 0.9493020           \\\\\n",
       "\t Comoros              & 1133                 & 0.9470432           \\\\\n",
       "\t United Arab Emirates & 1934                 & 0.9467425           \\\\\n",
       "\t Mozambique           & 1701                 & 0.9465021           \\\\\n",
       "\\end{tabular}\n"
      ],
      "text/markdown": [
       "\n",
       "country | total | percent_yes | \n",
       "|---|---|---|---|---|---|---|---|---|---|\n",
       "| São Tomé & Príncipe  | 1091                 | 0.9761687            | \n",
       "| Seychelles           |  881                 | 0.9750284            | \n",
       "| Djibouti             | 1598                 | 0.9612015            | \n",
       "| Guinea-Bissau        | 1538                 | 0.9603381            | \n",
       "| Timor-Leste          |  326                 | 0.9570552            | \n",
       "| Mauritius            | 1831                 | 0.9497542            | \n",
       "| Zimbabwe             | 1361                 | 0.9493020            | \n",
       "| Comoros              | 1133                 | 0.9470432            | \n",
       "| United Arab Emirates | 1934                 | 0.9467425            | \n",
       "| Mozambique           | 1701                 | 0.9465021            | \n",
       "\n",
       "\n"
      ],
      "text/plain": [
       "   country              total percent_yes\n",
       "1  São Tomé & Príncipe  1091  0.9761687  \n",
       "2  Seychelles            881  0.9750284  \n",
       "3  Djibouti             1598  0.9612015  \n",
       "4  Guinea-Bissau        1538  0.9603381  \n",
       "5  Timor-Leste           326  0.9570552  \n",
       "6  Mauritius            1831  0.9497542  \n",
       "7  Zimbabwe             1361  0.9493020  \n",
       "8  Comoros              1133  0.9470432  \n",
       "9  United Arab Emirates 1934  0.9467425  \n",
       "10 Mozambique           1701  0.9465021  "
      ]
     },
     "metadata": {},
     "output_type": "display_data"
    }
   ],
   "source": [
    "head(by_country,10)"
   ]
  },
  {
   "cell_type": "code",
   "execution_count": 88,
   "metadata": {
    "collapsed": false,
    "deletable": true,
    "editable": true
   },
   "outputs": [
    {
     "data": {
      "text/html": [
       "<table>\n",
       "<thead><tr><th scope=col>country</th><th scope=col>total</th><th scope=col>percent_yes</th></tr></thead>\n",
       "<tbody>\n",
       "\t<tr><td>France        </td><td>2527          </td><td>0.4265928     </td></tr>\n",
       "\t<tr><td>United Kingdom</td><td>2558          </td><td>0.4167318     </td></tr>\n",
       "\t<tr><td>Israel        </td><td>2380          </td><td>0.3407563     </td></tr>\n",
       "\t<tr><td>Palau         </td><td> 369          </td><td>0.3387534     </td></tr>\n",
       "\t<tr><td>United States </td><td>2568          </td><td>0.2694704     </td></tr>\n",
       "\t<tr><td>Zanzibar      </td><td>   2          </td><td>0.0000000     </td></tr>\n",
       "</tbody>\n",
       "</table>\n"
      ],
      "text/latex": [
       "\\begin{tabular}{r|lll}\n",
       " country & total & percent\\_yes\\\\\n",
       "\\hline\n",
       "\t France         & 2527           & 0.4265928     \\\\\n",
       "\t United Kingdom & 2558           & 0.4167318     \\\\\n",
       "\t Israel         & 2380           & 0.3407563     \\\\\n",
       "\t Palau          &  369           & 0.3387534     \\\\\n",
       "\t United States  & 2568           & 0.2694704     \\\\\n",
       "\t Zanzibar       &    2           & 0.0000000     \\\\\n",
       "\\end{tabular}\n"
      ],
      "text/markdown": [
       "\n",
       "country | total | percent_yes | \n",
       "|---|---|---|---|---|---|\n",
       "| France         | 2527           | 0.4265928      | \n",
       "| United Kingdom | 2558           | 0.4167318      | \n",
       "| Israel         | 2380           | 0.3407563      | \n",
       "| Palau          |  369           | 0.3387534      | \n",
       "| United States  | 2568           | 0.2694704      | \n",
       "| Zanzibar       |    2           | 0.0000000      | \n",
       "\n",
       "\n"
      ],
      "text/plain": [
       "  country        total percent_yes\n",
       "1 France         2527  0.4265928  \n",
       "2 United Kingdom 2558  0.4167318  \n",
       "3 Israel         2380  0.3407563  \n",
       "4 Palau           369  0.3387534  \n",
       "5 United States  2568  0.2694704  \n",
       "6 Zanzibar          2  0.0000000  "
      ]
     },
     "metadata": {},
     "output_type": "display_data"
    }
   ],
   "source": [
    "tail(by_country)"
   ]
  },
  {
   "cell_type": "code",
   "execution_count": 89,
   "metadata": {
    "collapsed": true,
    "deletable": true,
    "editable": true
   },
   "outputs": [],
   "source": [
    "by_country <- by_country %>%\n",
    "           arrange(desc(percent_yes)) %>%\n",
    "           filter(total >= 100)"
   ]
  },
  {
   "cell_type": "code",
   "execution_count": 90,
   "metadata": {
    "collapsed": false,
    "deletable": true,
    "editable": true
   },
   "outputs": [
    {
     "data": {
      "text/html": [
       "<table>\n",
       "<thead><tr><th scope=col>country</th><th scope=col>total</th><th scope=col>percent_yes</th></tr></thead>\n",
       "<tbody>\n",
       "\t<tr><td>Micronesia (Federated States of)</td><td> 724                            </td><td>0.4419890                       </td></tr>\n",
       "\t<tr><td>France                          </td><td>2527                            </td><td>0.4265928                       </td></tr>\n",
       "\t<tr><td>United Kingdom                  </td><td>2558                            </td><td>0.4167318                       </td></tr>\n",
       "\t<tr><td>Israel                          </td><td>2380                            </td><td>0.3407563                       </td></tr>\n",
       "\t<tr><td>Palau                           </td><td> 369                            </td><td>0.3387534                       </td></tr>\n",
       "\t<tr><td>United States                   </td><td>2568                            </td><td>0.2694704                       </td></tr>\n",
       "</tbody>\n",
       "</table>\n"
      ],
      "text/latex": [
       "\\begin{tabular}{r|lll}\n",
       " country & total & percent\\_yes\\\\\n",
       "\\hline\n",
       "\t Micronesia (Federated States of) &  724                             & 0.4419890                       \\\\\n",
       "\t France                           & 2527                             & 0.4265928                       \\\\\n",
       "\t United Kingdom                   & 2558                             & 0.4167318                       \\\\\n",
       "\t Israel                           & 2380                             & 0.3407563                       \\\\\n",
       "\t Palau                            &  369                             & 0.3387534                       \\\\\n",
       "\t United States                    & 2568                             & 0.2694704                       \\\\\n",
       "\\end{tabular}\n"
      ],
      "text/markdown": [
       "\n",
       "country | total | percent_yes | \n",
       "|---|---|---|---|---|---|\n",
       "| Micronesia (Federated States of) |  724                             | 0.4419890                        | \n",
       "| France                           | 2527                             | 0.4265928                        | \n",
       "| United Kingdom                   | 2558                             | 0.4167318                        | \n",
       "| Israel                           | 2380                             | 0.3407563                        | \n",
       "| Palau                            |  369                             | 0.3387534                        | \n",
       "| United States                    | 2568                             | 0.2694704                        | \n",
       "\n",
       "\n"
      ],
      "text/plain": [
       "  country                          total percent_yes\n",
       "1 Micronesia (Federated States of)  724  0.4419890  \n",
       "2 France                           2527  0.4265928  \n",
       "3 United Kingdom                   2558  0.4167318  \n",
       "4 Israel                           2380  0.3407563  \n",
       "5 Palau                             369  0.3387534  \n",
       "6 United States                    2568  0.2694704  "
      ]
     },
     "metadata": {},
     "output_type": "display_data"
    }
   ],
   "source": [
    "tail(by_country)"
   ]
  },
  {
   "cell_type": "markdown",
   "metadata": {
    "deletable": true,
    "editable": true
   },
   "source": [
    "##### Visuliazing the by_year perecent of yes votes"
   ]
  },
  {
   "cell_type": "code",
   "execution_count": 91,
   "metadata": {
    "collapsed": false,
    "deletable": true,
    "editable": true
   },
   "outputs": [
    {
     "data": {},
     "metadata": {},
     "output_type": "display_data"
    },
    {
     "data": {
      "image/png": "[encoded data removed]",
      "text/plain": [
       "plot without title"
      ]
     },
     "metadata": {},
     "output_type": "display_data"
    }
   ],
   "source": [
    "ggplot(by_year, aes(x=year,y=percent_yes))+\n",
    "geom_line()"
   ]
  },
  {
   "cell_type": "markdown",
   "metadata": {
    "deletable": true,
    "editable": true
   },
   "source": [
    "##### Creating scatter plot of the same instead of line plot"
   ]
  },
  {
   "cell_type": "code",
   "execution_count": 92,
   "metadata": {
    "collapsed": false,
    "deletable": true,
    "editable": true
   },
   "outputs": [
    {
     "name": "stderr",
     "output_type": "stream",
     "text": [
      "`geom_smooth()` using method = 'loess'\n"
     ]
    },
    {
     "data": {},
     "metadata": {},
     "output_type": "display_data"
    },
    {
     "data": {
      "image/png": "[encoded data removed]",
      "text/plain": [
       "plot without title"
      ]
     },
     "metadata": {},
     "output_type": "display_data"
    }
   ],
   "source": [
    "ggplot(by_year, aes(year, percent_yes)) +\n",
    "  geom_point()+\n",
    "  geom_smooth()"
   ]
  },
  {
   "cell_type": "markdown",
   "metadata": {
    "deletable": true,
    "editable": true
   },
   "source": [
    "##### Summarizing percent of yes votes by Year and Country both"
   ]
  },
  {
   "cell_type": "code",
   "execution_count": 93,
   "metadata": {
    "collapsed": true,
    "deletable": true,
    "editable": true
   },
   "outputs": [],
   "source": [
    "by_year_country <- votes_processed %>%\n",
    "  group_by(year,country) %>%\n",
    "  summarize(total = n(),\n",
    "            percent_yes = mean(vote == 1))"
   ]
  },
  {
   "cell_type": "code",
   "execution_count": 94,
   "metadata": {
    "collapsed": false,
    "deletable": true,
    "editable": true
   },
   "outputs": [
    {
     "data": {
      "text/html": [
       "<table>\n",
       "<thead><tr><th scope=col>year</th><th scope=col>country</th><th scope=col>total</th><th scope=col>percent_yes</th></tr></thead>\n",
       "<tbody>\n",
       "\t<tr><td>1947       </td><td>Afghanistan</td><td>34         </td><td>0.3823529  </td></tr>\n",
       "\t<tr><td>1947       </td><td>Argentina  </td><td>38         </td><td>0.5789474  </td></tr>\n",
       "\t<tr><td>1947       </td><td>Australia  </td><td>38         </td><td>0.5526316  </td></tr>\n",
       "\t<tr><td>1947       </td><td>Belarus    </td><td>38         </td><td>0.5000000  </td></tr>\n",
       "\t<tr><td>1947       </td><td>Belgium    </td><td>38         </td><td>0.6052632  </td></tr>\n",
       "\t<tr><td>1947       </td><td>Bolivia    </td><td>37         </td><td>0.5945946  </td></tr>\n",
       "\t<tr><td>1947       </td><td>Brazil     </td><td>38         </td><td>0.6578947  </td></tr>\n",
       "\t<tr><td>1947       </td><td>Canada     </td><td>38         </td><td>0.6052632  </td></tr>\n",
       "\t<tr><td>1947       </td><td>Chile      </td><td>38         </td><td>0.6578947  </td></tr>\n",
       "\t<tr><td>1947       </td><td>Colombia   </td><td>35         </td><td>0.5428571  </td></tr>\n",
       "</tbody>\n",
       "</table>\n"
      ],
      "text/latex": [
       "\\begin{tabular}{r|llll}\n",
       " year & country & total & percent\\_yes\\\\\n",
       "\\hline\n",
       "\t 1947        & Afghanistan & 34          & 0.3823529  \\\\\n",
       "\t 1947        & Argentina   & 38          & 0.5789474  \\\\\n",
       "\t 1947        & Australia   & 38          & 0.5526316  \\\\\n",
       "\t 1947        & Belarus     & 38          & 0.5000000  \\\\\n",
       "\t 1947        & Belgium     & 38          & 0.6052632  \\\\\n",
       "\t 1947        & Bolivia     & 37          & 0.5945946  \\\\\n",
       "\t 1947        & Brazil      & 38          & 0.6578947  \\\\\n",
       "\t 1947        & Canada      & 38          & 0.6052632  \\\\\n",
       "\t 1947        & Chile       & 38          & 0.6578947  \\\\\n",
       "\t 1947        & Colombia    & 35          & 0.5428571  \\\\\n",
       "\\end{tabular}\n"
      ],
      "text/markdown": [
       "\n",
       "year | country | total | percent_yes | \n",
       "|---|---|---|---|---|---|---|---|---|---|\n",
       "| 1947        | Afghanistan | 34          | 0.3823529   | \n",
       "| 1947        | Argentina   | 38          | 0.5789474   | \n",
       "| 1947        | Australia   | 38          | 0.5526316   | \n",
       "| 1947        | Belarus     | 38          | 0.5000000   | \n",
       "| 1947        | Belgium     | 38          | 0.6052632   | \n",
       "| 1947        | Bolivia     | 37          | 0.5945946   | \n",
       "| 1947        | Brazil      | 38          | 0.6578947   | \n",
       "| 1947        | Canada      | 38          | 0.6052632   | \n",
       "| 1947        | Chile       | 38          | 0.6578947   | \n",
       "| 1947        | Colombia    | 35          | 0.5428571   | \n",
       "\n",
       "\n"
      ],
      "text/plain": [
       "   year country     total percent_yes\n",
       "1  1947 Afghanistan 34    0.3823529  \n",
       "2  1947 Argentina   38    0.5789474  \n",
       "3  1947 Australia   38    0.5526316  \n",
       "4  1947 Belarus     38    0.5000000  \n",
       "5  1947 Belgium     38    0.6052632  \n",
       "6  1947 Bolivia     37    0.5945946  \n",
       "7  1947 Brazil      38    0.6578947  \n",
       "8  1947 Canada      38    0.6052632  \n",
       "9  1947 Chile       38    0.6578947  \n",
       "10 1947 Colombia    35    0.5428571  "
      ]
     },
     "metadata": {},
     "output_type": "display_data"
    }
   ],
   "source": [
    "head(by_year_country,10)"
   ]
  },
  {
   "cell_type": "markdown",
   "metadata": {
    "deletable": true,
    "editable": true
   },
   "source": [
    "##### Visuliaxing the trend for United Kingdom"
   ]
  },
  {
   "cell_type": "code",
   "execution_count": 95,
   "metadata": {
    "collapsed": false,
    "deletable": true,
    "editable": true
   },
   "outputs": [
    {
     "data": {},
     "metadata": {},
     "output_type": "display_data"
    },
    {
     "data": {
      "image/png": "[encoded data removed]",
      "text/plain": [
       "plot without title"
      ]
     },
     "metadata": {},
     "output_type": "display_data"
    }
   ],
   "source": [
    "UK_by_year <- by_year_country %>%\n",
    "  filter(country == \"United Kingdom\")\n",
    "\n",
    "ggplot(UK_by_year, aes(year, percent_yes)) +\n",
    "  geom_line()"
   ]
  },
  {
   "cell_type": "code",
   "execution_count": 96,
   "metadata": {
    "collapsed": false,
    "deletable": true,
    "editable": true
   },
   "outputs": [
    {
     "data": {
      "text/html": [
       "<ol class=list-inline>\n",
       "\t<li>'São Tomé &amp; Príncipe'</li>\n",
       "\t<li>'Seychelles'</li>\n",
       "\t<li>'Djibouti'</li>\n",
       "\t<li>'Guinea-Bissau'</li>\n",
       "\t<li>'Timor-Leste'</li>\n",
       "\t<li>'Mauritius'</li>\n",
       "\t<li>'Zimbabwe'</li>\n",
       "\t<li>'Comoros'</li>\n",
       "\t<li>'United Arab Emirates'</li>\n",
       "\t<li>'Mozambique'</li>\n",
       "\t<li>'Yemen'</li>\n",
       "\t<li>'Bangladesh'</li>\n",
       "\t<li>'Maldives'</li>\n",
       "\t<li>'Suriname'</li>\n",
       "\t<li>'Qatar'</li>\n",
       "\t<li>'Bahrain'</li>\n",
       "\t<li>'Oman'</li>\n",
       "\t<li>'Cape Verde'</li>\n",
       "\t<li>'Kuwait'</li>\n",
       "\t<li>'Guyana'</li>\n",
       "\t<li>'Brunei'</li>\n",
       "\t<li>'Gambia'</li>\n",
       "\t<li>'Zambia'</li>\n",
       "\t<li>'Belize'</li>\n",
       "\t<li>'Namibia'</li>\n",
       "\t<li>'Angola'</li>\n",
       "\t<li>'Botswana'</li>\n",
       "\t<li>'Burundi'</li>\n",
       "\t<li>'Trinidad &amp; Tobago'</li>\n",
       "\t<li>'Eritrea'</li>\n",
       "\t<li>'Niger'</li>\n",
       "\t<li>'Bhutan'</li>\n",
       "\t<li>'Mauritania'</li>\n",
       "\t<li>'Mali'</li>\n",
       "\t<li>'Madagascar'</li>\n",
       "\t<li>'Guinea'</li>\n",
       "\t<li>'Tanzania'</li>\n",
       "\t<li>'Senegal'</li>\n",
       "\t<li>'Lesotho'</li>\n",
       "\t<li>'Somalia'</li>\n",
       "\t<li>'Antigua &amp; Barbuda'</li>\n",
       "\t<li>'Nigeria'</li>\n",
       "\t<li>'St. Lucia'</li>\n",
       "\t<li>'Tunisia'</li>\n",
       "\t<li>'Burkina Faso'</li>\n",
       "\t<li>'Sierra Leone'</li>\n",
       "\t<li>'Benin'</li>\n",
       "\t<li>'Barbados'</li>\n",
       "\t<li>'Kenya'</li>\n",
       "\t<li>'Ghana'</li>\n",
       "\t<li>'Turkmenistan'</li>\n",
       "\t<li>'Vanuatu'</li>\n",
       "\t<li>'Jordan'</li>\n",
       "\t<li>'Togo'</li>\n",
       "\t<li>'Morocco'</li>\n",
       "\t<li>'Gabon'</li>\n",
       "\t<li>'Algeria'</li>\n",
       "\t<li>'Yemen People\\'s Republic'</li>\n",
       "\t<li>'Sudan'</li>\n",
       "\t<li>'Uganda'</li>\n",
       "\t<li>'St. Vincent &amp; Grenadines'</li>\n",
       "\t<li>'Sri Lanka'</li>\n",
       "\t<li>'Congo - Brazzaville'</li>\n",
       "\t<li>'Chad'</li>\n",
       "\t<li>'Rwanda'</li>\n",
       "\t<li>'Malaysia'</li>\n",
       "\t<li>'Libya'</li>\n",
       "\t<li>'Jamaica'</li>\n",
       "\t<li>'Bahamas'</li>\n",
       "\t<li>'Cambodia'</li>\n",
       "\t<li>'Solomon Islands'</li>\n",
       "\t<li>'Indonesia'</li>\n",
       "\t<li>'St. Kitts &amp; Nevis'</li>\n",
       "\t<li>'Singapore'</li>\n",
       "\t<li>'Papua New Guinea'</li>\n",
       "\t<li>'Saudi Arabia'</li>\n",
       "\t<li>'Mexico'</li>\n",
       "\t<li>'Nepal'</li>\n",
       "\t<li>'Swaziland'</li>\n",
       "\t<li>'China'</li>\n",
       "\t<li>'Philippines'</li>\n",
       "\t<li>'Equatorial Guinea'</li>\n",
       "\t<li>'Egypt'</li>\n",
       "\t<li>'Grenada'</li>\n",
       "\t<li>'Laos'</li>\n",
       "\t<li>'Iran'</li>\n",
       "\t<li>'Iraq'</li>\n",
       "\t<li>'Ethiopia'</li>\n",
       "\t<li>'Lebanon'</li>\n",
       "\t<li>'Pakistan'</li>\n",
       "\t<li>'Azerbaijan'</li>\n",
       "\t<li>'Haiti'</li>\n",
       "\t<li>'Ecuador'</li>\n",
       "\t<li>'Afghanistan'</li>\n",
       "\t<li>'Bolivia'</li>\n",
       "\t<li>'Venezuela'</li>\n",
       "\t<li>'Fiji'</li>\n",
       "\t<li>'Thailand'</li>\n",
       "\t<li>'Congo - Kinshasa'</li>\n",
       "\t<li>'Cameroon'</li>\n",
       "\t<li>'Dominica'</li>\n",
       "\t<li>'Syria'</li>\n",
       "\t<li>'Liberia'</li>\n",
       "\t<li>'Samoa'</li>\n",
       "\t<li>'North Korea'</li>\n",
       "\t<li>'Cyprus'</li>\n",
       "\t<li>'Yemen Arab Republic'</li>\n",
       "\t<li>'Panama'</li>\n",
       "\t<li>'Kyrgyzstan'</li>\n",
       "\t<li>'Peru'</li>\n",
       "\t<li>'Tajikistan'</li>\n",
       "\t<li>'Central African Republic'</li>\n",
       "\t<li>'Colombia'</li>\n",
       "\t<li>'Myanmar (Burma)'</li>\n",
       "\t<li>'El Salvador'</li>\n",
       "\t<li>'Yugoslavia'</li>\n",
       "\t<li>'Costa Rica'</li>\n",
       "\t<li>'Malta'</li>\n",
       "\t<li>'Mongolia'</li>\n",
       "\t<li>'Tuvalu'</li>\n",
       "\t<li>'Nicaragua'</li>\n",
       "\t<li>'Côte d’Ivoire'</li>\n",
       "\t<li>'Uruguay'</li>\n",
       "\t<li>'Honduras'</li>\n",
       "\t<li>'Brazil'</li>\n",
       "\t<li>'Kazakhstan'</li>\n",
       "\t<li>'Chile'</li>\n",
       "\t<li>'India'</li>\n",
       "\t<li>'Dominican Republic'</li>\n",
       "\t<li>'Cuba'</li>\n",
       "\t<li>'German Democratic Republic'</li>\n",
       "\t<li>'Paraguay'</li>\n",
       "\t<li>'Guatemala'</li>\n",
       "\t<li>'Malawi'</li>\n",
       "\t<li>'Argentina'</li>\n",
       "\t<li>'Belarus'</li>\n",
       "\t<li>'Uzbekistan'</li>\n",
       "\t<li>'Romania'</li>\n",
       "\t<li>'Armenia'</li>\n",
       "\t<li>'Tonga'</li>\n",
       "\t<li>'Czechoslovakia'</li>\n",
       "\t<li>'Ukraine'</li>\n",
       "\t<li>'Albania'</li>\n",
       "\t<li>'Russia'</li>\n",
       "\t<li>NA</li>\n",
       "\t<li>'Poland'</li>\n",
       "\t<li>'Turkey'</li>\n",
       "\t<li>'Bulgaria'</li>\n",
       "\t<li>'Hungary'</li>\n",
       "\t<li>'Bosnia &amp; Herzegovina'</li>\n",
       "\t<li>'Greece'</li>\n",
       "\t<li>'San Marino'</li>\n",
       "\t<li>'Monaco'</li>\n",
       "\t<li>'South Korea'</li>\n",
       "\t<li>'Andorra'</li>\n",
       "\t<li>'Switzerland'</li>\n",
       "\t<li>'Croatia'</li>\n",
       "\t<li>'South Africa'</li>\n",
       "\t<li>'Macedonia'</li>\n",
       "\t<li>'Slovenia'</li>\n",
       "\t<li>'Finland'</li>\n",
       "\t<li>'Ireland'</li>\n",
       "\t<li>'Austria'</li>\n",
       "\t<li>'Montenegro'</li>\n",
       "\t<li>'Slovakia'</li>\n",
       "\t<li>'Liechtenstein'</li>\n",
       "\t<li>'Spain'</li>\n",
       "\t<li>'Czechia'</li>\n",
       "\t<li>'Sweden'</li>\n",
       "\t<li>'Moldova'</li>\n",
       "\t<li>'Estonia'</li>\n",
       "\t<li>'Lithuania'</li>\n",
       "\t<li>'New Zealand'</li>\n",
       "\t<li>'Germany'</li>\n",
       "\t<li>'Iceland'</li>\n",
       "\t<li>'Latvia'</li>\n",
       "\t<li>'Taiwan'</li>\n",
       "\t<li>'Japan'</li>\n",
       "\t<li>'Norway'</li>\n",
       "\t<li>'Nauru'</li>\n",
       "\t<li>'Denmark'</li>\n",
       "\t<li>'Georgia'</li>\n",
       "\t<li>'Australia'</li>\n",
       "\t<li>'Portugal'</li>\n",
       "\t<li>'Netherlands'</li>\n",
       "\t<li>'Italy'</li>\n",
       "\t<li>'Luxembourg'</li>\n",
       "\t<li>'Canada'</li>\n",
       "\t<li>'Belgium'</li>\n",
       "\t<li>'Marshall Islands'</li>\n",
       "\t<li>'Micronesia (Federated States of)'</li>\n",
       "\t<li>'France'</li>\n",
       "\t<li>'United Kingdom'</li>\n",
       "\t<li>'Israel'</li>\n",
       "\t<li>'Palau'</li>\n",
       "\t<li>'United States'</li>\n",
       "</ol>\n"
      ],
      "text/latex": [
       "\\begin{enumerate*}\n",
       "\\item 'São Tomé \\& Príncipe'\n",
       "\\item 'Seychelles'\n",
       "\\item 'Djibouti'\n",
       "\\item 'Guinea-Bissau'\n",
       "\\item 'Timor-Leste'\n",
       "\\item 'Mauritius'\n",
       "\\item 'Zimbabwe'\n",
       "\\item 'Comoros'\n",
       "\\item 'United Arab Emirates'\n",
       "\\item 'Mozambique'\n",
       "\\item 'Yemen'\n",
       "\\item 'Bangladesh'\n",
       "\\item 'Maldives'\n",
       "\\item 'Suriname'\n",
       "\\item 'Qatar'\n",
       "\\item 'Bahrain'\n",
       "\\item 'Oman'\n",
       "\\item 'Cape Verde'\n",
       "\\item 'Kuwait'\n",
       "\\item 'Guyana'\n",
       "\\item 'Brunei'\n",
       "\\item 'Gambia'\n",
       "\\item 'Zambia'\n",
       "\\item 'Belize'\n",
       "\\item 'Namibia'\n",
       "\\item 'Angola'\n",
       "\\item 'Botswana'\n",
       "\\item 'Burundi'\n",
       "\\item 'Trinidad \\& Tobago'\n",
       "\\item 'Eritrea'\n",
       "\\item 'Niger'\n",
       "\\item 'Bhutan'\n",
       "\\item 'Mauritania'\n",
       "\\item 'Mali'\n",
       "\\item 'Madagascar'\n",
       "\\item 'Guinea'\n",
       "\\item 'Tanzania'\n",
       "\\item 'Senegal'\n",
       "\\item 'Lesotho'\n",
       "\\item 'Somalia'\n",
       "\\item 'Antigua \\& Barbuda'\n",
       "\\item 'Nigeria'\n",
       "\\item 'St. Lucia'\n",
       "\\item 'Tunisia'\n",
       "\\item 'Burkina Faso'\n",
       "\\item 'Sierra Leone'\n",
       "\\item 'Benin'\n",
       "\\item 'Barbados'\n",
       "\\item 'Kenya'\n",
       "\\item 'Ghana'\n",
       "\\item 'Turkmenistan'\n",
       "\\item 'Vanuatu'\n",
       "\\item 'Jordan'\n",
       "\\item 'Togo'\n",
       "\\item 'Morocco'\n",
       "\\item 'Gabon'\n",
       "\\item 'Algeria'\n",
       "\\item 'Yemen People\\textbackslash{}'s Republic'\n",
       "\\item 'Sudan'\n",
       "\\item 'Uganda'\n",
       "\\item 'St. Vincent \\& Grenadines'\n",
       "\\item 'Sri Lanka'\n",
       "\\item 'Congo - Brazzaville'\n",
       "\\item 'Chad'\n",
       "\\item 'Rwanda'\n",
       "\\item 'Malaysia'\n",
       "\\item 'Libya'\n",
       "\\item 'Jamaica'\n",
       "\\item 'Bahamas'\n",
       "\\item 'Cambodia'\n",
       "\\item 'Solomon Islands'\n",
       "\\item 'Indonesia'\n",
       "\\item 'St. Kitts \\& Nevis'\n",
       "\\item 'Singapore'\n",
       "\\item 'Papua New Guinea'\n",
       "\\item 'Saudi Arabia'\n",
       "\\item 'Mexico'\n",
       "\\item 'Nepal'\n",
       "\\item 'Swaziland'\n",
       "\\item 'China'\n",
       "\\item 'Philippines'\n",
       "\\item 'Equatorial Guinea'\n",
       "\\item 'Egypt'\n",
       "\\item 'Grenada'\n",
       "\\item 'Laos'\n",
       "\\item 'Iran'\n",
       "\\item 'Iraq'\n",
       "\\item 'Ethiopia'\n",
       "\\item 'Lebanon'\n",
       "\\item 'Pakistan'\n",
       "\\item 'Azerbaijan'\n",
       "\\item 'Haiti'\n",
       "\\item 'Ecuador'\n",
       "\\item 'Afghanistan'\n",
       "\\item 'Bolivia'\n",
       "\\item 'Venezuela'\n",
       "\\item 'Fiji'\n",
       "\\item 'Thailand'\n",
       "\\item 'Congo - Kinshasa'\n",
       "\\item 'Cameroon'\n",
       "\\item 'Dominica'\n",
       "\\item 'Syria'\n",
       "\\item 'Liberia'\n",
       "\\item 'Samoa'\n",
       "\\item 'North Korea'\n",
       "\\item 'Cyprus'\n",
       "\\item 'Yemen Arab Republic'\n",
       "\\item 'Panama'\n",
       "\\item 'Kyrgyzstan'\n",
       "\\item 'Peru'\n",
       "\\item 'Tajikistan'\n",
       "\\item 'Central African Republic'\n",
       "\\item 'Colombia'\n",
       "\\item 'Myanmar (Burma)'\n",
       "\\item 'El Salvador'\n",
       "\\item 'Yugoslavia'\n",
       "\\item 'Costa Rica'\n",
       "\\item 'Malta'\n",
       "\\item 'Mongolia'\n",
       "\\item 'Tuvalu'\n",
       "\\item 'Nicaragua'\n",
       "\\item 'Côte d’Ivoire'\n",
       "\\item 'Uruguay'\n",
       "\\item 'Honduras'\n",
       "\\item 'Brazil'\n",
       "\\item 'Kazakhstan'\n",
       "\\item 'Chile'\n",
       "\\item 'India'\n",
       "\\item 'Dominican Republic'\n",
       "\\item 'Cuba'\n",
       "\\item 'German Democratic Republic'\n",
       "\\item 'Paraguay'\n",
       "\\item 'Guatemala'\n",
       "\\item 'Malawi'\n",
       "\\item 'Argentina'\n",
       "\\item 'Belarus'\n",
       "\\item 'Uzbekistan'\n",
       "\\item 'Romania'\n",
       "\\item 'Armenia'\n",
       "\\item 'Tonga'\n",
       "\\item 'Czechoslovakia'\n",
       "\\item 'Ukraine'\n",
       "\\item 'Albania'\n",
       "\\item 'Russia'\n",
       "\\item NA\n",
       "\\item 'Poland'\n",
       "\\item 'Turkey'\n",
       "\\item 'Bulgaria'\n",
       "\\item 'Hungary'\n",
       "\\item 'Bosnia \\& Herzegovina'\n",
       "\\item 'Greece'\n",
       "\\item 'San Marino'\n",
       "\\item 'Monaco'\n",
       "\\item 'South Korea'\n",
       "\\item 'Andorra'\n",
       "\\item 'Switzerland'\n",
       "\\item 'Croatia'\n",
       "\\item 'South Africa'\n",
       "\\item 'Macedonia'\n",
       "\\item 'Slovenia'\n",
       "\\item 'Finland'\n",
       "\\item 'Ireland'\n",
       "\\item 'Austria'\n",
       "\\item 'Montenegro'\n",
       "\\item 'Slovakia'\n",
       "\\item 'Liechtenstein'\n",
       "\\item 'Spain'\n",
       "\\item 'Czechia'\n",
       "\\item 'Sweden'\n",
       "\\item 'Moldova'\n",
       "\\item 'Estonia'\n",
       "\\item 'Lithuania'\n",
       "\\item 'New Zealand'\n",
       "\\item 'Germany'\n",
       "\\item 'Iceland'\n",
       "\\item 'Latvia'\n",
       "\\item 'Taiwan'\n",
       "\\item 'Japan'\n",
       "\\item 'Norway'\n",
       "\\item 'Nauru'\n",
       "\\item 'Denmark'\n",
       "\\item 'Georgia'\n",
       "\\item 'Australia'\n",
       "\\item 'Portugal'\n",
       "\\item 'Netherlands'\n",
       "\\item 'Italy'\n",
       "\\item 'Luxembourg'\n",
       "\\item 'Canada'\n",
       "\\item 'Belgium'\n",
       "\\item 'Marshall Islands'\n",
       "\\item 'Micronesia (Federated States of)'\n",
       "\\item 'France'\n",
       "\\item 'United Kingdom'\n",
       "\\item 'Israel'\n",
       "\\item 'Palau'\n",
       "\\item 'United States'\n",
       "\\end{enumerate*}\n"
      ],
      "text/markdown": [
       "1. 'São Tomé &amp; Príncipe'\n",
       "2. 'Seychelles'\n",
       "3. 'Djibouti'\n",
       "4. 'Guinea-Bissau'\n",
       "5. 'Timor-Leste'\n",
       "6. 'Mauritius'\n",
       "7. 'Zimbabwe'\n",
       "8. 'Comoros'\n",
       "9. 'United Arab Emirates'\n",
       "10. 'Mozambique'\n",
       "11. 'Yemen'\n",
       "12. 'Bangladesh'\n",
       "13. 'Maldives'\n",
       "14. 'Suriname'\n",
       "15. 'Qatar'\n",
       "16. 'Bahrain'\n",
       "17. 'Oman'\n",
       "18. 'Cape Verde'\n",
       "19. 'Kuwait'\n",
       "20. 'Guyana'\n",
       "21. 'Brunei'\n",
       "22. 'Gambia'\n",
       "23. 'Zambia'\n",
       "24. 'Belize'\n",
       "25. 'Namibia'\n",
       "26. 'Angola'\n",
       "27. 'Botswana'\n",
       "28. 'Burundi'\n",
       "29. 'Trinidad &amp; Tobago'\n",
       "30. 'Eritrea'\n",
       "31. 'Niger'\n",
       "32. 'Bhutan'\n",
       "33. 'Mauritania'\n",
       "34. 'Mali'\n",
       "35. 'Madagascar'\n",
       "36. 'Guinea'\n",
       "37. 'Tanzania'\n",
       "38. 'Senegal'\n",
       "39. 'Lesotho'\n",
       "40. 'Somalia'\n",
       "41. 'Antigua &amp; Barbuda'\n",
       "42. 'Nigeria'\n",
       "43. 'St. Lucia'\n",
       "44. 'Tunisia'\n",
       "45. 'Burkina Faso'\n",
       "46. 'Sierra Leone'\n",
       "47. 'Benin'\n",
       "48. 'Barbados'\n",
       "49. 'Kenya'\n",
       "50. 'Ghana'\n",
       "51. 'Turkmenistan'\n",
       "52. 'Vanuatu'\n",
       "53. 'Jordan'\n",
       "54. 'Togo'\n",
       "55. 'Morocco'\n",
       "56. 'Gabon'\n",
       "57. 'Algeria'\n",
       "58. 'Yemen People\\'s Republic'\n",
       "59. 'Sudan'\n",
       "60. 'Uganda'\n",
       "61. 'St. Vincent &amp; Grenadines'\n",
       "62. 'Sri Lanka'\n",
       "63. 'Congo - Brazzaville'\n",
       "64. 'Chad'\n",
       "65. 'Rwanda'\n",
       "66. 'Malaysia'\n",
       "67. 'Libya'\n",
       "68. 'Jamaica'\n",
       "69. 'Bahamas'\n",
       "70. 'Cambodia'\n",
       "71. 'Solomon Islands'\n",
       "72. 'Indonesia'\n",
       "73. 'St. Kitts &amp; Nevis'\n",
       "74. 'Singapore'\n",
       "75. 'Papua New Guinea'\n",
       "76. 'Saudi Arabia'\n",
       "77. 'Mexico'\n",
       "78. 'Nepal'\n",
       "79. 'Swaziland'\n",
       "80. 'China'\n",
       "81. 'Philippines'\n",
       "82. 'Equatorial Guinea'\n",
       "83. 'Egypt'\n",
       "84. 'Grenada'\n",
       "85. 'Laos'\n",
       "86. 'Iran'\n",
       "87. 'Iraq'\n",
       "88. 'Ethiopia'\n",
       "89. 'Lebanon'\n",
       "90. 'Pakistan'\n",
       "91. 'Azerbaijan'\n",
       "92. 'Haiti'\n",
       "93. 'Ecuador'\n",
       "94. 'Afghanistan'\n",
       "95. 'Bolivia'\n",
       "96. 'Venezuela'\n",
       "97. 'Fiji'\n",
       "98. 'Thailand'\n",
       "99. 'Congo - Kinshasa'\n",
       "100. 'Cameroon'\n",
       "101. 'Dominica'\n",
       "102. 'Syria'\n",
       "103. 'Liberia'\n",
       "104. 'Samoa'\n",
       "105. 'North Korea'\n",
       "106. 'Cyprus'\n",
       "107. 'Yemen Arab Republic'\n",
       "108. 'Panama'\n",
       "109. 'Kyrgyzstan'\n",
       "110. 'Peru'\n",
       "111. 'Tajikistan'\n",
       "112. 'Central African Republic'\n",
       "113. 'Colombia'\n",
       "114. 'Myanmar (Burma)'\n",
       "115. 'El Salvador'\n",
       "116. 'Yugoslavia'\n",
       "117. 'Costa Rica'\n",
       "118. 'Malta'\n",
       "119. 'Mongolia'\n",
       "120. 'Tuvalu'\n",
       "121. 'Nicaragua'\n",
       "122. 'Côte d’Ivoire'\n",
       "123. 'Uruguay'\n",
       "124. 'Honduras'\n",
       "125. 'Brazil'\n",
       "126. 'Kazakhstan'\n",
       "127. 'Chile'\n",
       "128. 'India'\n",
       "129. 'Dominican Republic'\n",
       "130. 'Cuba'\n",
       "131. 'German Democratic Republic'\n",
       "132. 'Paraguay'\n",
       "133. 'Guatemala'\n",
       "134. 'Malawi'\n",
       "135. 'Argentina'\n",
       "136. 'Belarus'\n",
       "137. 'Uzbekistan'\n",
       "138. 'Romania'\n",
       "139. 'Armenia'\n",
       "140. 'Tonga'\n",
       "141. 'Czechoslovakia'\n",
       "142. 'Ukraine'\n",
       "143. 'Albania'\n",
       "144. 'Russia'\n",
       "145. NA\n",
       "146. 'Poland'\n",
       "147. 'Turkey'\n",
       "148. 'Bulgaria'\n",
       "149. 'Hungary'\n",
       "150. 'Bosnia &amp; Herzegovina'\n",
       "151. 'Greece'\n",
       "152. 'San Marino'\n",
       "153. 'Monaco'\n",
       "154. 'South Korea'\n",
       "155. 'Andorra'\n",
       "156. 'Switzerland'\n",
       "157. 'Croatia'\n",
       "158. 'South Africa'\n",
       "159. 'Macedonia'\n",
       "160. 'Slovenia'\n",
       "161. 'Finland'\n",
       "162. 'Ireland'\n",
       "163. 'Austria'\n",
       "164. 'Montenegro'\n",
       "165. 'Slovakia'\n",
       "166. 'Liechtenstein'\n",
       "167. 'Spain'\n",
       "168. 'Czechia'\n",
       "169. 'Sweden'\n",
       "170. 'Moldova'\n",
       "171. 'Estonia'\n",
       "172. 'Lithuania'\n",
       "173. 'New Zealand'\n",
       "174. 'Germany'\n",
       "175. 'Iceland'\n",
       "176. 'Latvia'\n",
       "177. 'Taiwan'\n",
       "178. 'Japan'\n",
       "179. 'Norway'\n",
       "180. 'Nauru'\n",
       "181. 'Denmark'\n",
       "182. 'Georgia'\n",
       "183. 'Australia'\n",
       "184. 'Portugal'\n",
       "185. 'Netherlands'\n",
       "186. 'Italy'\n",
       "187. 'Luxembourg'\n",
       "188. 'Canada'\n",
       "189. 'Belgium'\n",
       "190. 'Marshall Islands'\n",
       "191. 'Micronesia (Federated States of)'\n",
       "192. 'France'\n",
       "193. 'United Kingdom'\n",
       "194. 'Israel'\n",
       "195. 'Palau'\n",
       "196. 'United States'\n",
       "\n",
       "\n"
      ],
      "text/plain": [
       "  [1] \"São Tomé & Príncipe\"              \"Seychelles\"                      \n",
       "  [3] \"Djibouti\"                         \"Guinea-Bissau\"                   \n",
       "  [5] \"Timor-Leste\"                      \"Mauritius\"                       \n",
       "  [7] \"Zimbabwe\"                         \"Comoros\"                         \n",
       "  [9] \"United Arab Emirates\"             \"Mozambique\"                      \n",
       " [11] \"Yemen\"                            \"Bangladesh\"                      \n",
       " [13] \"Maldives\"                         \"Suriname\"                        \n",
       " [15] \"Qatar\"                            \"Bahrain\"                         \n",
       " [17] \"Oman\"                             \"Cape Verde\"                      \n",
       " [19] \"Kuwait\"                           \"Guyana\"                          \n",
       " [21] \"Brunei\"                           \"Gambia\"                          \n",
       " [23] \"Zambia\"                           \"Belize\"                          \n",
       " [25] \"Namibia\"                          \"Angola\"                          \n",
       " [27] \"Botswana\"                         \"Burundi\"                         \n",
       " [29] \"Trinidad & Tobago\"                \"Eritrea\"                         \n",
       " [31] \"Niger\"                            \"Bhutan\"                          \n",
       " [33] \"Mauritania\"                       \"Mali\"                            \n",
       " [35] \"Madagascar\"                       \"Guinea\"                          \n",
       " [37] \"Tanzania\"                         \"Senegal\"                         \n",
       " [39] \"Lesotho\"                          \"Somalia\"                         \n",
       " [41] \"Antigua & Barbuda\"                \"Nigeria\"                         \n",
       " [43] \"St. Lucia\"                        \"Tunisia\"                         \n",
       " [45] \"Burkina Faso\"                     \"Sierra Leone\"                    \n",
       " [47] \"Benin\"                            \"Barbados\"                        \n",
       " [49] \"Kenya\"                            \"Ghana\"                           \n",
       " [51] \"Turkmenistan\"                     \"Vanuatu\"                         \n",
       " [53] \"Jordan\"                           \"Togo\"                            \n",
       " [55] \"Morocco\"                          \"Gabon\"                           \n",
       " [57] \"Algeria\"                          \"Yemen People's Republic\"         \n",
       " [59] \"Sudan\"                            \"Uganda\"                          \n",
       " [61] \"St. Vincent & Grenadines\"         \"Sri Lanka\"                       \n",
       " [63] \"Congo - Brazzaville\"              \"Chad\"                            \n",
       " [65] \"Rwanda\"                           \"Malaysia\"                        \n",
       " [67] \"Libya\"                            \"Jamaica\"                         \n",
       " [69] \"Bahamas\"                          \"Cambodia\"                        \n",
       " [71] \"Solomon Islands\"                  \"Indonesia\"                       \n",
       " [73] \"St. Kitts & Nevis\"                \"Singapore\"                       \n",
       " [75] \"Papua New Guinea\"                 \"Saudi Arabia\"                    \n",
       " [77] \"Mexico\"                           \"Nepal\"                           \n",
       " [79] \"Swaziland\"                        \"China\"                           \n",
       " [81] \"Philippines\"                      \"Equatorial Guinea\"               \n",
       " [83] \"Egypt\"                            \"Grenada\"                         \n",
       " [85] \"Laos\"                             \"Iran\"                            \n",
       " [87] \"Iraq\"                             \"Ethiopia\"                        \n",
       " [89] \"Lebanon\"                          \"Pakistan\"                        \n",
       " [91] \"Azerbaijan\"                       \"Haiti\"                           \n",
       " [93] \"Ecuador\"                          \"Afghanistan\"                     \n",
       " [95] \"Bolivia\"                          \"Venezuela\"                       \n",
       " [97] \"Fiji\"                             \"Thailand\"                        \n",
       " [99] \"Congo - Kinshasa\"                 \"Cameroon\"                        \n",
       "[101] \"Dominica\"                         \"Syria\"                           \n",
       "[103] \"Liberia\"                          \"Samoa\"                           \n",
       "[105] \"North Korea\"                      \"Cyprus\"                          \n",
       "[107] \"Yemen Arab Republic\"              \"Panama\"                          \n",
       "[109] \"Kyrgyzstan\"                       \"Peru\"                            \n",
       "[111] \"Tajikistan\"                       \"Central African Republic\"        \n",
       "[113] \"Colombia\"                         \"Myanmar (Burma)\"                 \n",
       "[115] \"El Salvador\"                      \"Yugoslavia\"                      \n",
       "[117] \"Costa Rica\"                       \"Malta\"                           \n",
       "[119] \"Mongolia\"                         \"Tuvalu\"                          \n",
       "[121] \"Nicaragua\"                        \"Côte dIvoire\"                   \n",
       "[123] \"Uruguay\"                          \"Honduras\"                        \n",
       "[125] \"Brazil\"                           \"Kazakhstan\"                      \n",
       "[127] \"Chile\"                            \"India\"                           \n",
       "[129] \"Dominican Republic\"               \"Cuba\"                            \n",
       "[131] \"German Democratic Republic\"       \"Paraguay\"                        \n",
       "[133] \"Guatemala\"                        \"Malawi\"                          \n",
       "[135] \"Argentina\"                        \"Belarus\"                         \n",
       "[137] \"Uzbekistan\"                       \"Romania\"                         \n",
       "[139] \"Armenia\"                          \"Tonga\"                           \n",
       "[141] \"Czechoslovakia\"                   \"Ukraine\"                         \n",
       "[143] \"Albania\"                          \"Russia\"                          \n",
       "[145] NA                                 \"Poland\"                          \n",
       "[147] \"Turkey\"                           \"Bulgaria\"                        \n",
       "[149] \"Hungary\"                          \"Bosnia & Herzegovina\"            \n",
       "[151] \"Greece\"                           \"San Marino\"                      \n",
       "[153] \"Monaco\"                           \"South Korea\"                     \n",
       "[155] \"Andorra\"                          \"Switzerland\"                     \n",
       "[157] \"Croatia\"                          \"South Africa\"                    \n",
       "[159] \"Macedonia\"                        \"Slovenia\"                        \n",
       "[161] \"Finland\"                          \"Ireland\"                         \n",
       "[163] \"Austria\"                          \"Montenegro\"                      \n",
       "[165] \"Slovakia\"                         \"Liechtenstein\"                   \n",
       "[167] \"Spain\"                            \"Czechia\"                         \n",
       "[169] \"Sweden\"                           \"Moldova\"                         \n",
       "[171] \"Estonia\"                          \"Lithuania\"                       \n",
       "[173] \"New Zealand\"                      \"Germany\"                         \n",
       "[175] \"Iceland\"                          \"Latvia\"                          \n",
       "[177] \"Taiwan\"                           \"Japan\"                           \n",
       "[179] \"Norway\"                           \"Nauru\"                           \n",
       "[181] \"Denmark\"                          \"Georgia\"                         \n",
       "[183] \"Australia\"                        \"Portugal\"                        \n",
       "[185] \"Netherlands\"                      \"Italy\"                           \n",
       "[187] \"Luxembourg\"                       \"Canada\"                          \n",
       "[189] \"Belgium\"                          \"Marshall Islands\"                \n",
       "[191] \"Micronesia (Federated States of)\" \"France\"                          \n",
       "[193] \"United Kingdom\"                   \"Israel\"                          \n",
       "[195] \"Palau\"                            \"United States\"                   "
      ]
     },
     "metadata": {},
     "output_type": "display_data"
    }
   ],
   "source": [
    "by_country$country"
   ]
  },
  {
   "cell_type": "markdown",
   "metadata": {
    "deletable": true,
    "editable": true
   },
   "source": [
    "##### Plotting multiple Countries"
   ]
  },
  {
   "cell_type": "code",
   "execution_count": 97,
   "metadata": {
    "collapsed": false,
    "deletable": true,
    "editable": true
   },
   "outputs": [
    {
     "data": {},
     "metadata": {},
     "output_type": "display_data"
    },
    {
     "data": {
      "image/png": "[encoded data removed]",
      "text/plain": [
       "plot without title"
      ]
     },
     "metadata": {},
     "output_type": "display_data"
    }
   ],
   "source": [
    "countries <- c(\"United States\", \"United Kingdom\",\n",
    "               \"France\", \"India\")\n",
    "\n",
    "\n",
    "filtered_4_countries <- by_year_country %>%\n",
    "  filter(country %in% countries)\n",
    "\n",
    "# Line plot of % yes in four countries\n",
    "ggplot(filtered_4_countries, aes(year, percent_yes, color = country)) +\n",
    "  geom_line()"
   ]
  },
  {
   "cell_type": "code",
   "execution_count": 98,
   "metadata": {
    "collapsed": false,
    "deletable": true,
    "editable": true,
    "scrolled": true
   },
   "outputs": [
    {
     "data": {},
     "metadata": {},
     "output_type": "display_data"
    },
    {
     "data": {
      "image/png": "[encoded data removed]",
      "text/plain": [
       "plot without title"
      ]
     },
     "metadata": {},
     "output_type": "display_data"
    }
   ],
   "source": [
    "# Vector of six countries to examine\n",
    "countries <- c(\"United States\", \"United Kingdom\",\n",
    "               \"France\", \"Japan\", \"Brazil\", \"India\")\n",
    "\n",
    "# Filtered by_year_country: filtered_6_countries\n",
    "filtered_6_countries <- by_year_country %>%\n",
    "  filter(country %in% countries)\n",
    "\n",
    "# Line plot of % yes over time faceted by country\n",
    "ggplot(filtered_6_countries, aes(year, percent_yes)) +\n",
    "  geom_line() +\n",
    "  facet_wrap(~ country, scales = \"free_y\")"
   ]
  },
  {
   "cell_type": "markdown",
   "metadata": {
    "collapsed": true,
    "deletable": true,
    "editable": true
   },
   "source": [
    "##### Doing Quantifying Analysis on the Data"
   ]
  },
  {
   "cell_type": "code",
   "execution_count": 99,
   "metadata": {
    "collapsed": false
   },
   "outputs": [
    {
     "data": {
      "text/plain": [
       "\n",
       "Call:\n",
       "lm(formula = percent_yes ~ year, data = US_by_year)\n",
       "\n",
       "Residuals:\n",
       "      Min        1Q    Median        3Q       Max \n",
       "-0.222491 -0.080635 -0.008661  0.081948  0.194307 \n",
       "\n",
       "Coefficients:\n",
       "              Estimate Std. Error t value Pr(>|t|)    \n",
       "(Intercept) 12.6641455  1.8379743   6.890 8.48e-08 ***\n",
       "year        -0.0062393  0.0009282  -6.722 1.37e-07 ***\n",
       "---\n",
       "Signif. codes:  0 '***' 0.001 '**' 0.01 '*' 0.05 '.' 0.1 ' ' 1\n",
       "\n",
       "Residual standard error: 0.1062 on 32 degrees of freedom\n",
       "Multiple R-squared:  0.5854,\tAdjusted R-squared:  0.5724 \n",
       "F-statistic: 45.18 on 1 and 32 DF,  p-value: 1.367e-07\n"
      ]
     },
     "metadata": {},
     "output_type": "display_data"
    }
   ],
   "source": [
    "# Percentage of yes votes from the US by year: US_by_year\n",
    "US_by_year <- by_year_country %>%\n",
    "  filter(country == \"United States\")\n",
    "\n",
    "# Performing a linear regression of percent_yes by year: US_fit\n",
    "US_fit <- lm(percent_yes ~ year,data=US_by_year)\n",
    "\n",
    "summary(US_fit)"
   ]
  },
  {
   "cell_type": "markdown",
   "metadata": {},
   "source": [
    "##### From above we can see that the estimated change each year of the probability of the US voting \"yes\" is -0.006 and it seems year is very significant when modeling percent_yes refering to the p-value between year and percent-yes"
   ]
  },
  {
   "cell_type": "markdown",
   "metadata": {},
   "source": [
    "##### Tidying linear Regression Model"
   ]
  },
  {
   "cell_type": "code",
   "execution_count": 100,
   "metadata": {
    "collapsed": false
   },
   "outputs": [
    {
     "data": {
      "text/html": [
       "<table>\n",
       "<thead><tr><th scope=col>term</th><th scope=col>estimate</th><th scope=col>std.error</th><th scope=col>statistic</th><th scope=col>p.value</th></tr></thead>\n",
       "<tbody>\n",
       "\t<tr><td>(Intercept) </td><td>12.664145512</td><td>1.8379742715</td><td> 6.890274   </td><td>8.477089e-08</td></tr>\n",
       "\t<tr><td>year        </td><td>-0.006239305</td><td>0.0009282243</td><td>-6.721764   </td><td>1.366904e-07</td></tr>\n",
       "</tbody>\n",
       "</table>\n"
      ],
      "text/latex": [
       "\\begin{tabular}{r|lllll}\n",
       " term & estimate & std.error & statistic & p.value\\\\\n",
       "\\hline\n",
       "\t (Intercept)  & 12.664145512 & 1.8379742715 &  6.890274    & 8.477089e-08\\\\\n",
       "\t year         & -0.006239305 & 0.0009282243 & -6.721764    & 1.366904e-07\\\\\n",
       "\\end{tabular}\n"
      ],
      "text/markdown": [
       "\n",
       "term | estimate | std.error | statistic | p.value | \n",
       "|---|---|\n",
       "| (Intercept)  | 12.664145512 | 1.8379742715 |  6.890274    | 8.477089e-08 | \n",
       "| year         | -0.006239305 | 0.0009282243 | -6.721764    | 1.366904e-07 | \n",
       "\n",
       "\n"
      ],
      "text/plain": [
       "  term        estimate     std.error    statistic p.value     \n",
       "1 (Intercept) 12.664145512 1.8379742715  6.890274 8.477089e-08\n",
       "2 year        -0.006239305 0.0009282243 -6.721764 1.366904e-07"
      ]
     },
     "metadata": {},
     "output_type": "display_data"
    }
   ],
   "source": [
    "tidy(US_fit)"
   ]
  },
  {
   "cell_type": "code",
   "execution_count": 101,
   "metadata": {
    "collapsed": false
   },
   "outputs": [
    {
     "data": {
      "text/html": [
       "<table>\n",
       "<thead><tr><th scope=col>term</th><th scope=col>estimate</th><th scope=col>std.error</th><th scope=col>statistic</th><th scope=col>p.value</th></tr></thead>\n",
       "<tbody>\n",
       "\t<tr><td>(Intercept) </td><td>12.664145512</td><td>1.8379742715</td><td> 6.890274   </td><td>8.477089e-08</td></tr>\n",
       "\t<tr><td>year        </td><td>-0.006239305</td><td>0.0009282243</td><td>-6.721764   </td><td>1.366904e-07</td></tr>\n",
       "\t<tr><td>(Intercept) </td><td>-3.266547873</td><td>1.9577739504</td><td>-1.668501   </td><td>1.049736e-01</td></tr>\n",
       "\t<tr><td>year        </td><td> 0.001869434</td><td>0.0009887262</td><td> 1.890750   </td><td>6.774177e-02</td></tr>\n",
       "</tbody>\n",
       "</table>\n"
      ],
      "text/latex": [
       "\\begin{tabular}{r|lllll}\n",
       " term & estimate & std.error & statistic & p.value\\\\\n",
       "\\hline\n",
       "\t (Intercept)  & 12.664145512 & 1.8379742715 &  6.890274    & 8.477089e-08\\\\\n",
       "\t year         & -0.006239305 & 0.0009282243 & -6.721764    & 1.366904e-07\\\\\n",
       "\t (Intercept)  & -3.266547873 & 1.9577739504 & -1.668501    & 1.049736e-01\\\\\n",
       "\t year         &  0.001869434 & 0.0009887262 &  1.890750    & 6.774177e-02\\\\\n",
       "\\end{tabular}\n"
      ],
      "text/markdown": [
       "\n",
       "term | estimate | std.error | statistic | p.value | \n",
       "|---|---|---|---|\n",
       "| (Intercept)  | 12.664145512 | 1.8379742715 |  6.890274    | 8.477089e-08 | \n",
       "| year         | -0.006239305 | 0.0009282243 | -6.721764    | 1.366904e-07 | \n",
       "| (Intercept)  | -3.266547873 | 1.9577739504 | -1.668501    | 1.049736e-01 | \n",
       "| year         |  0.001869434 | 0.0009887262 |  1.890750    | 6.774177e-02 | \n",
       "\n",
       "\n"
      ],
      "text/plain": [
       "  term        estimate     std.error    statistic p.value     \n",
       "1 (Intercept) 12.664145512 1.8379742715  6.890274 8.477089e-08\n",
       "2 year        -0.006239305 0.0009282243 -6.721764 1.366904e-07\n",
       "3 (Intercept) -3.266547873 1.9577739504 -1.668501 1.049736e-01\n",
       "4 year         0.001869434 0.0009887262  1.890750 6.774177e-02"
      ]
     },
     "metadata": {},
     "output_type": "display_data"
    }
   ],
   "source": [
    "# Fit model for the United Kingdom\n",
    "UK_by_year <- by_year_country %>%\n",
    "  filter(country == \"United Kingdom\")\n",
    "UK_fit <- lm(percent_yes ~ year, UK_by_year)\n",
    "\n",
    "# Creating US_tidied and UK_tidied\n",
    "US_tidied <- tidy(US_fit)\n",
    "UK_tidied <- tidy(UK_fit)\n",
    "\n",
    "# Combined the two tidied models\n",
    "bind_rows(US_tidied, UK_tidied)"
   ]
  },
  {
   "cell_type": "code",
   "execution_count": null,
   "metadata": {
    "collapsed": true
   },
   "outputs": [],
   "source": []
  }
 ],
 "metadata": {
  "kernelspec": {
   "display_name": "R",
   "language": "R",
   "name": "ir"
  },
  "language_info": {
   "codemirror_mode": "r",
   "file_extension": ".r",
   "mimetype": "text/x-r-source",
   "name": "R",
   "pygments_lexer": "r",
   "version": "3.4.1"
  }
 },
 "nbformat": 4,
 "nbformat_minor": 2
}
